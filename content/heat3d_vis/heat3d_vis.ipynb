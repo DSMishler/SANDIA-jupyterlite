{
  "metadata": {
    "language_info": {
      "codemirror_mode": {
        "name": "python",
        "version": 3
      },
      "file_extension": ".py",
      "mimetype": "text/x-python",
      "name": "python",
      "nbconvert_exporter": "python",
      "pygments_lexer": "ipython3",
      "version": "3.8"
    },
    "kernelspec": {
      "name": "python",
      "display_name": "Python (Pyodide)",
      "language": "python"
    }
  },
  "nbformat_minor": 4,
  "nbformat": 4,
  "cells": [
    {
      "cell_type": "code",
      "source": "import matplotlib.pyplot as plt\nimport pandas as pd",
      "metadata": {
        "trusted": true
      },
      "execution_count": null,
      "outputs": []
    },
    {
      "cell_type": "code",
      "source": "rma1 = pd.read_csv(\"2023-07-07_weaver_heat3d_rma_np1.csv\")\nmpi1 = pd.read_csv(\"2023-07-07_weaver_heat3d_mpi_np1.csv\")\numg1 = pd.read_csv(\"2023-07-07_weaver_heat3d_umg_np1.csv\")\n\nrma4 = pd.read_csv(\"2023-07-07_weaver_heat3d_rma_np4.csv\")\nmpi4 = pd.read_csv(\"2023-07-10_weaver_heat3d_mpi_np4.csv\")\numg4 = pd.read_csv(\"2023-07-07_weaver_heat3d_umg_np4.csv\")\n\n\nrma4 = pd.read_csv(\"2023-07-17_weaver_heat3d_np4_rma.csv\")\nmpi4 = pd.read_csv(\"2023-07-17_weaver_heat3d_np4_mpi.csv\")\numg4 = pd.read_csv(\"2023-07-17_weaver_heat3d_np4_umg.csv\")",
      "metadata": {
        "trusted": true
      },
      "execution_count": null,
      "outputs": []
    },
    {
      "cell_type": "code",
      "source": "dfs1 = [rma1, umg1, mpi1]\nlabels1 = [\"rma1\", \"umg1\", \"mpi1\"]\ndfs4 = [rma4, umg4, mpi4]\nlabels4 = [\"rma4\", \"umg4\", \"mpi4\"]",
      "metadata": {
        "trusted": true
      },
      "execution_count": null,
      "outputs": []
    },
    {
      "cell_type": "code",
      "source": "def figure_for_attribute(dfs, labels, attribute, ylabel = None, title = None, style=\"--\", scale=\"linear\"):\n    if ylabel is None:\n        ylabel = attribute\n    \n    if title is None:\n        title = f\"update benchmark ({attribute.replace('_',' ')})\"\n    \n    if len(dfs) == 0:\n        print(\"required to have at least one line to plot\")\n    \n    maxy = max(dfs[0][f\"{attribute}-mean\"])\n    miny = min(dfs[0][f\"{attribute}-mean\"])\n    for df in dfs:\n        cur_max = max(df[f\"{attribute}-mean\"])\n        cur_min = min(df[f\"{attribute}-mean\"])\n        if cur_max > maxy:\n            maxy = cur_max\n        if cur_min < miny:\n            miny = cur_min\n    \n    if labels is None:\n        print(\"required to label each line\")\n        \n    plt.figure(figsize=[10,6])\n    for df, dflabel in zip(dfs,labels):\n        plt.plot(df[\"n\"], df[f\"{attribute}-mean\"], style, label=dflabel)\n    plt.title(title)\n    plt.legend()\n    plt.xlabel(\"problem size (cubic array of size n)\")\n    plt.ylabel(ylabel)\n    plt.xscale(scale)\n    plt.yscale(scale)\n    if scale == \"linear\":\n        ylim_base = 0\n    else:\n        ylim_base = miny*0.95\n    plt.ylim(ylim_base,int((maxy+1)*1.05))\n    plt.grid()\n    plt.savefig(f\"{title}.png\")\n    plt.show()",
      "metadata": {
        "trusted": true
      },
      "execution_count": null,
      "outputs": []
    },
    {
      "cell_type": "code",
      "source": "figure_for_attribute(dfs1, labels1, \"time\", ylabel=\"time (s)\", title=\"heat3d miniapp performance\")",
      "metadata": {
        "trusted": true
      },
      "execution_count": null,
      "outputs": []
    },
    {
      "cell_type": "code",
      "source": "figure_for_attribute(dfs1, labels1, \"dt_time\", ylabel=\"dt_time (s)\", title=\"heat3d miniapp performance PHASE 1\")",
      "metadata": {
        "trusted": true
      },
      "execution_count": null,
      "outputs": []
    },
    {
      "cell_type": "code",
      "source": "figure_for_attribute(dfs1, labels1, \"compute_time\", ylabel=\"compute_time (s)\", title=\"heat3d miniapp performance PHASE 2\")",
      "metadata": {
        "trusted": true
      },
      "execution_count": null,
      "outputs": []
    },
    {
      "cell_type": "code",
      "source": "figure_for_attribute(dfs4, labels4, \"time\", ylabel=\"time (s)\", style=\"*-\", title=\"heat3d miniapp performance\")\n# each iteration has 2 phases\n# phase 1: you calculate the change of temperature for each point dT\n# phase 2: you apply each dT to each T (compute time)",
      "metadata": {
        "trusted": true
      },
      "execution_count": null,
      "outputs": []
    },
    {
      "cell_type": "code",
      "source": "figure_for_attribute(dfs4, labels4, \"dt_time\", ylabel=\"dt_time (s)\", style=\"*-\", title=\"heat3d miniapp performance PHASE 1\")",
      "metadata": {
        "trusted": true
      },
      "execution_count": null,
      "outputs": []
    },
    {
      "cell_type": "code",
      "source": "figure_for_attribute(dfs4, labels4, \"compute_time\", ylabel=\"compute_time (s)\", style=\"*-\", title=\"heat3d miniapp performance PHASE 2\")",
      "metadata": {
        "trusted": true
      },
      "execution_count": null,
      "outputs": []
    }
  ]
}