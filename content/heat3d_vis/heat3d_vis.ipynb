{
  "metadata": {
    "language_info": {
      "codemirror_mode": {
        "name": "python",
        "version": 3
      },
      "file_extension": ".py",
      "mimetype": "text/x-python",
      "name": "python",
      "nbconvert_exporter": "python",
      "pygments_lexer": "ipython3",
      "version": "3.8"
    },
    "kernelspec": {
      "name": "python",
      "display_name": "Python (Pyodide)",
      "language": "python"
    }
  },
  "nbformat_minor": 4,
  "nbformat": 4,
  "cells": [
    {
      "cell_type": "code",
      "source": "import matplotlib.pyplot as plt\nimport pandas as pd",
      "metadata": {
        "trusted": true
      },
      "execution_count": null,
      "outputs": []
    },
    {
      "cell_type": "code",
      "source": "rma1 = pd.read_csv(\"2023-07-07_weaver_heat3d_rma_np1.csv\")\nmpi1 = pd.read_csv(\"2023-07-07_weaver_heat3d_mpi_np1.csv\")\numg1 = pd.read_csv(\"2023-07-07_weaver_heat3d_umg_np1.csv\")\n\nrma4 = pd.read_csv(\"2023-07-17_weaver_heat3d_rma_np4.csv\")\nmpi4 = pd.read_csv(\"2023-07-17_weaver_heat3d_mpi_np4.csv\")\numg4 = pd.read_csv(\"2023-07-17_weaver_heat3d_umg_np4.csv\")",
      "metadata": {
        "trusted": true
      },
      "execution_count": null,
      "outputs": []
    },
    {
      "cell_type": "code",
      "source": "dfs1 = [rma1, umg1, mpi1]\nlabels1 = [\"rma1\", \"umg1\", \"mpi1\"]\ndfs4 = [rma4, umg4, mpi4]\nlabels4 = [\"rma4\", \"umg4\", \"mpi4\"]",
      "metadata": {
        "trusted": true
      },
      "execution_count": null,
      "outputs": []
    },
    {
      "cell_type": "code",
      "source": "def figure_for_attribute(dfs, labels, attribute, ylabel = None):\n    if ylabel is None:\n        ylabel = attribute\n    \n    if len(dfs) == 0:\n        print(\"required to have at least one line to plot\")\n    \n    maxy = 0\n    for df in dfs:\n        cur_max = max(df[f\"{attribute}-mean\"])\n        if cur_max > maxy:\n            maxy = cur_max\n    \n    if labels is None:\n        print(\"required to label each line\")\n        \n    plt.figure(figsize=[10,6])\n    for df, dflabel in zip(dfs,labels):\n        plt.plot(df[\"n\"], df[f\"{attribute}-mean\"], \"*-\", label=dflabel)\n    plt.title(f\"heat3d miniapp benchmark ({attribute.replace('_',' ')})\")\n    plt.legend()\n    plt.xlabel(\"problem size (X=Y=Z)\")\n    plt.ylabel(\"time (s)\")\n    plt.ylim(0,int(maxy+1))\n    plt.show()",
      "metadata": {
        "trusted": true
      },
      "execution_count": null,
      "outputs": []
    },
    {
      "cell_type": "code",
      "source": "figure_for_attribute(dfs1, labels1, \"time\", ylabel=\"time (s)\")",
      "metadata": {
        "trusted": true
      },
      "execution_count": null,
      "outputs": []
    },
    {
      "cell_type": "code",
      "source": "figure_for_attribute(dfs1, labels1, \"dt_time\", ylabel=\"dt_time (s)\")",
      "metadata": {
        "trusted": true
      },
      "execution_count": null,
      "outputs": []
    },
    {
      "cell_type": "code",
      "source": "figure_for_attribute(dfs1, labels1, \"compute_time\", ylabel=\"compute_time (s)\")",
      "metadata": {
        "trusted": true
      },
      "execution_count": null,
      "outputs": []
    },
    {
      "cell_type": "code",
      "source": "figure_for_attribute(dfs4, labels4, \"time\", ylabel=\"time (s)\")",
      "metadata": {
        "trusted": true
      },
      "execution_count": null,
      "outputs": []
    },
    {
      "cell_type": "code",
      "source": "figure_for_attribute(dfs4, labels4, \"dt_time\", ylabel=\"dt_time (s)\")",
      "metadata": {
        "trusted": true
      },
      "execution_count": null,
      "outputs": []
    },
    {
      "cell_type": "code",
      "source": "figure_for_attribute(dfs4, labels4, \"compute_time\", ylabel=\"compute_time (s)\")",
      "metadata": {
        "trusted": true
      },
      "execution_count": null,
      "outputs": []
    }
  ]
}