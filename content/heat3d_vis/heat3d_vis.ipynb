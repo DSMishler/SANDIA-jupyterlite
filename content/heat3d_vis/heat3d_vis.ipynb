{
  "metadata": {
    "language_info": {
      "codemirror_mode": {
        "name": "python",
        "version": 3
      },
      "file_extension": ".py",
      "mimetype": "text/x-python",
      "name": "python",
      "nbconvert_exporter": "python",
      "pygments_lexer": "ipython3",
      "version": "3.8"
    },
    "kernelspec": {
      "name": "python",
      "display_name": "Python (Pyodide)",
      "language": "python"
    }
  },
  "nbformat_minor": 4,
  "nbformat": 4,
  "cells": [
    {
      "cell_type": "code",
      "source": "import matplotlib.pyplot as plt\nimport pandas as pd",
      "metadata": {
        "trusted": true
      },
      "execution_count": null,
      "outputs": []
    },
    {
      "cell_type": "code",
      "source": "mpi = pd.read_csv(\"2023-07-28_weaver2_heat3d_mpi.csv\")\nrma = pd.read_csv(\"2023-07-28_weaver2_heat3d_rma.csv\")\numg = pd.read_csv(\"2023-07-28_weaver2_heat3d_opt_rma.csv\")\n\nmpi1 = mpi.loc[mpi[\"NPs\"] == 1]\nmpi4 = pd.read_csv(\"2023-07-17_weaver_heat3d_np4_mpi.csv\") # I ain't recollecting this data\n\nrma1 = rma.loc[rma[\"NPs\"] == 1]\nrma4 = rma.loc[rma[\"NPs\"] == 4]\n\numg1 = umg.loc[umg[\"NPs\"] == 1]\numg4 = umg.loc[umg[\"NPs\"] == 4]",
      "metadata": {
        "trusted": true
      },
      "execution_count": null,
      "outputs": []
    },
    {
      "cell_type": "code",
      "source": "dfs1 = [rma1, umg1, mpi1]\nlabels1 = [\"rma1\", \"umg1\", \"mpi1\"]\ndfs4 = [rma4, umg4, mpi4]\nlabels4 = [\"rma4\", \"umg4\", \"mpi4\"]",
      "metadata": {
        "trusted": true
      },
      "execution_count": null,
      "outputs": []
    },
    {
      "cell_type": "code",
      "source": "def figure_for_attribute(dfs,\n                         labels,\n                         attribute,\n                         xaxis=\"n\",\n                         xlabel=\"problem size (array of size n)\",\n                         ylabel = None,\n                         title = None,\n                         style=\"--\",\n                         scale=\"linear\",\n                         figsize=[8.25,4.95],\n                         colors=None):\n    color_defaults = [\"tab:purple\", \"tab:brown\", \"tab:red\", \"k\", \"g\", \"c\", \"tab:orange\", \"tab:blue\", \"y\"]\n    if colors is None:\n        colors = color_defaults[:len(dfs)]\n    \n    \n    if ylabel is None:\n        ylabel = attribute\n    \n    if title is None:\n        title = f\"update benchmark ({attribute.replace('_',' ')})\"\n    \n    if len(dfs) == 0:\n        print(\"required to have at least one line to plot\")\n    \n    maxy = max(dfs[0][f\"{attribute}-mean\"])\n    miny = min(dfs[0][f\"{attribute}-mean\"])\n    for df in dfs:\n        cur_max = max(df[f\"{attribute}-mean\"])\n        cur_min = min(df[f\"{attribute}-mean\"])\n        if cur_max > maxy:\n            maxy = cur_max\n        if cur_min < miny:\n            miny = cur_min\n    \n    if labels is None:\n        print(\"required to label each line\")\n        \n    plt.figure(figsize=figsize)\n    for df, dflabel,c in zip(dfs,labels,colors):\n        plt.plot(df[xaxis], df[f\"{attribute}-mean\"], style, label=dflabel, color=c)\n    plt.title(title)\n    plt.legend()\n    plt.xlabel(xlabel)\n    plt.ylabel(ylabel)\n    if type(scale) is str:\n        plt.xscale(scale)\n        plt.yscale(scale)\n    else:\n        plt.xscale(scale[0])\n        plt.yscale(scale[1])\n    if scale == \"linear\":\n        ylim_base = 0\n    else:\n        ylim_base = miny*0.95\n    plt.ylim(ylim_base,(maxy)*1.05)\n    plt.grid()\n    plt.savefig(f\"{title}.png\")\n    plt.show()",
      "metadata": {
        "trusted": true
      },
      "execution_count": null,
      "outputs": []
    },
    {
      "cell_type": "code",
      "source": "figure_for_attribute(dfs1,\n                     labels1,\n                     \"time\",\n                     xaxis=\"size\",\n                     xlabel=\"problem size (cubic array of size n)\",\n                     ylabel=\"time (s)\",\n                     title=\"heat3d miniapp performance np1\",\n                     style=\"-*\",\n                     scale=\"log\")",
      "metadata": {
        "trusted": true
      },
      "execution_count": null,
      "outputs": []
    },
    {
      "cell_type": "code",
      "source": "figure_for_attribute(dfs1,\n                     labels1,\n                     \"compute_time\",\n                     xaxis=\"size\",\n                     xlabel=\"problem size (cubic array of size n)\",\n                     ylabel=\"compute_time (s)\",\n                     title=\"heat3d miniapp performance PHASE 1 np1\",\n                     style=\"-*\",\n                     scale=\"log\")",
      "metadata": {
        "trusted": true
      },
      "execution_count": null,
      "outputs": []
    },
    {
      "cell_type": "code",
      "source": "figure_for_attribute(dfs1,\n                     labels1,\n                     \"update_time\",\n                     xaxis=\"size\",\n                     xlabel=\"problem size (cubic array of size n)\",\n                     ylabel=\"update_time (s)\",\n                     title=\"heat3d miniapp performance PHASE 2 np1\",\n                     style=\"-*\",\n                     scale=\"log\")",
      "metadata": {
        "trusted": true
      },
      "execution_count": null,
      "outputs": []
    },
    {
      "cell_type": "code",
      "source": "figure_for_attribute(dfs4,\n                     labels4,\n                     \"time\",\n                     xaxis=\"size\",\n                     xlabel=\"problem size (cubic array of size n)\",\n                     ylabel=\"time (s)\",\n                     title=\"heat3d miniapp performance\",\n                     style=\"-*\",\n                     scale=\"log\")",
      "metadata": {
        "trusted": true
      },
      "execution_count": null,
      "outputs": []
    },
    {
      "cell_type": "code",
      "source": "figure_for_attribute(dfs4,\n                     labels4,\n                     \"compute_time\",\n                     xaxis=\"size\",\n                     xlabel=\"problem size (cubic array of size n)\",\n                     ylabel=\"compute_time (s)\",\n                     title=\"heat3d miniapp performance PHASE 1\",\n                     style=\"-*\",\n                     scale=\"log\")",
      "metadata": {
        "trusted": true
      },
      "execution_count": null,
      "outputs": []
    },
    {
      "cell_type": "code",
      "source": "figure_for_attribute(dfs4,\n                     labels4,\n                     \"update_time\",\n                     xaxis=\"size\",\n                     xlabel=\"problem size (cubic array of size n)\",\n                     ylabel=\"update_time (s)\",\n                     title=\"heat3d miniapp performance PHASE 2\",\n                     style=\"-*\",\n                     scale=\"log\")",
      "metadata": {
        "trusted": true
      },
      "execution_count": null,
      "outputs": []
    }
  ]
}