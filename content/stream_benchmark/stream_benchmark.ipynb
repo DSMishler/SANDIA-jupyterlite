{
  "metadata": {
    "language_info": {
      "codemirror_mode": {
        "name": "python",
        "version": 3
      },
      "file_extension": ".py",
      "mimetype": "text/x-python",
      "name": "python",
      "nbconvert_exporter": "python",
      "pygments_lexer": "ipython3",
      "version": "3.8"
    },
    "kernelspec": {
      "name": "python",
      "display_name": "Python (Pyodide)",
      "language": "python"
    }
  },
  "nbformat_minor": 4,
  "nbformat": 4,
  "cells": [
    {
      "cell_type": "code",
      "source": "import matplotlib.pyplot as plt\nimport pandas as pd",
      "metadata": {
        "trusted": true
      },
      "execution_count": null,
      "outputs": []
    },
    {
      "cell_type": "code",
      "source": "stream_np2_mpi = pd.read_csv(\"2023-07-13_weaver5_stream_np2_mpi.csv\") \nstream_np2_rma = pd.read_csv(\"2023-07-13_weaver5_stream_np2_rma.csv\")\ndfs2 = [stream_np2_mpi, stream_np2_rma]\nlabels2 = [\"stream_np2_mpi\", \"stream_np2_rma\"]",
      "metadata": {
        "trusted": true
      },
      "execution_count": null,
      "outputs": []
    },
    {
      "cell_type": "code",
      "source": "stream_np1_pp_rpr = pd.read_csv(\"2023-07-12_weaver2_stream_np1_pp_rpr.csv\")\nstream_np1_pe_rpn = pd.read_csv(\"2023-07-12_weaver2_stream_np1_pe_rpn.csv\")\nstream_np1_pe_rpu = pd.read_csv(\"2023-07-12_weaver2_stream_np1_pe_rpu.csv\")\nstream_np1_pe_rpr = pd.read_csv(\"2023-07-12_weaver2_stream_np1_pe_rpr.csv\")\nstream_np1_pe_upn = pd.read_csv(\"2023-07-12_weaver2_stream_np1_pe_upn.csv\")\nstream_np1_pp_npn = pd.read_csv(\"2023-07-12_weaver2_stream_np1_pp_npn.csv\")\nstream_np1_pe_upr = pd.read_csv(\"2023-07-12_weaver2_stream_np1_pe_upr.csv\")\nstream_np1_pe_upu = pd.read_csv(\"2023-07-12_weaver2_stream_np1_pe_upu.csv\")\nstream_np1_pe_npr = pd.read_csv(\"2023-07-12_weaver2_stream_np1_pe_npr.csv\")\nstream_np1_pe_npu = pd.read_csv(\"2023-07-12_weaver2_stream_np1_pe_npu.csv\")\nstream_np1_pp_upu = pd.read_csv(\"2023-07-12_weaver2_stream_np1_pp_upu.csv\")\nstream_np1_pe_npn = pd.read_csv(\"2023-07-12_weaver2_stream_np1_pe_npn.csv\")\ndfs = [stream_np1_pp_rpr, stream_np1_pe_rpn, stream_np1_pe_rpu, stream_np1_pe_rpr, stream_np1_pe_upn, stream_np1_pp_npn, stream_np1_pe_upr, stream_np1_pe_upu, stream_np1_pe_npr, stream_np1_pe_npu, stream_np1_pp_upu, stream_np1_pe_npn]\nlabels = ['stream_np1_pp_rpr', 'stream_np1_pe_rpn', 'stream_np1_pe_rpu', 'stream_np1_pe_rpr', 'stream_np1_pe_upn', 'stream_np1_pp_npn', 'stream_np1_pe_upr', 'stream_np1_pe_upu', 'stream_np1_pe_npr', 'stream_np1_pe_npu', 'stream_np1_pp_upu', 'stream_np1_pe_npn']",
      "metadata": {
        "trusted": true
      },
      "execution_count": null,
      "outputs": []
    },
    {
      "cell_type": "code",
      "source": "def calculate_new_attrs(df):\n    df[\"size\"] = 1.0*df[\"n\"]\n    df[\"UPs-mean\"] = df[\"size\"]*df[\"iterations\"]/df[\"time_stream-mean\"]\n    df[\"GUPs-mean\"] = 1e-9*df[\"UPs-mean\"]",
      "metadata": {
        "trusted": true
      },
      "execution_count": null,
      "outputs": []
    },
    {
      "cell_type": "code",
      "source": "for i in range(len(dfs)):\n    calculate_new_attrs(dfs[i])\nfor i in range(len(dfs2)):\n    calculate_new_attrs(dfs2[i])",
      "metadata": {
        "trusted": true
      },
      "execution_count": null,
      "outputs": []
    },
    {
      "cell_type": "code",
      "source": "dfspp = [stream_np1_pp_npn,stream_np1_pp_rpr,stream_np1_pp_upu]\nlabelspp = ['stream_np1_pp_npn','stream_np1_pp_rpr','stream_np1_pp_upu']\ndfsnpex = [stream_np1_pe_npn,stream_np1_pe_npr,stream_np1_pe_npu]\nlabelsnpex = ['stream_np1_pe_npn','stream_np1_pe_npr','stream_np1_pe_npu']\ndfsrpex = [stream_np1_pe_rpn,stream_np1_pe_rpr,stream_np1_pe_rpu]\nlabelsrpex = ['stream_np1_pe_rpn','stream_np1_pe_rpr','stream_np1_pe_rpu']\ndfsupex = [stream_np1_pe_upn,stream_np1_pe_upr,stream_np1_pe_upu]\nlabelsupex = ['stream_np1_pe_upn','stream_np1_pe_upr','stream_np1_pe_upu']\ndfspruned = [dfspp[0], dfspp[1], dfspp[2], dfsnpex[0], dfsrpex[1], dfsupex[2]]\nlabelspruned = [labelspp[0], labelspp[1], labelspp[2], labelsnpex[0], labelsrpex[1], labelsupex[2]]",
      "metadata": {
        "trusted": true
      },
      "execution_count": null,
      "outputs": []
    },
    {
      "cell_type": "code",
      "source": "def figure_for_attribute(dfs, labels, attribute, ylabel = None, title = None, style=\"--\", scale=\"linear\"):\n    if ylabel is None:\n        ylabel = attribute\n    \n    if title is None:\n        title = f\"update benchmark ({attribute.replace('_',' ')})\"\n    \n    if len(dfs) == 0:\n        print(\"required to have at least one line to plot\")\n    \n    maxy = max(dfs[0][f\"{attribute}-mean\"])\n    miny = min(dfs[0][f\"{attribute}-mean\"])\n    for df in dfs:\n        cur_max = max(df[f\"{attribute}-mean\"])\n        cur_min = min(df[f\"{attribute}-mean\"])\n        if cur_max > maxy:\n            maxy = cur_max\n        if cur_min < miny:\n            miny = cur_min\n    \n    if labels is None:\n        print(\"required to label each line\")\n        \n    plt.figure(figsize=[10,6])\n    for df, dflabel in zip(dfs,labels):\n        plt.plot(df[\"n\"], df[f\"{attribute}-mean\"], style, label=dflabel)\n    plt.title(title)\n    plt.legend()\n    plt.xlabel(\"problem size (array of size n)\")\n    plt.ylabel(ylabel)\n    plt.xscale(scale)\n    plt.yscale(scale)\n    if scale == \"linear\":\n        ylim_base = 0\n    else:\n        ylim_base = miny*0.95\n    plt.ylim(ylim_base,int((maxy+1)*1.05))\n    plt.grid()\n    plt.show()",
      "metadata": {
        "trusted": true
      },
      "execution_count": null,
      "outputs": []
    },
    {
      "cell_type": "code",
      "source": "figure_for_attribute(dfs2, labels2, \"time_stream\", \"time (s)\", \"2-node rma benchmark time\", style=\"*-\", scale=\"log\")",
      "metadata": {
        "trusted": true
      },
      "execution_count": null,
      "outputs": []
    },
    {
      "cell_type": "code",
      "source": "figure_for_attribute(dfs2, labels2, \"GUPs\", \"GStreamUpdates per second\", \"2-node rma benchmark GUPs (contiguous access)\", style=\"*-\", scale=\"log\")",
      "metadata": {
        "trusted": true
      },
      "execution_count": null,
      "outputs": []
    },
    {
      "cell_type": "code",
      "source": "figure_for_attribute(dfs, labels, \"time_stream\", \"time (s)\", \"1-node rma overhead time\", style=\"*-\", scale=\"log\")",
      "metadata": {
        "trusted": true
      },
      "execution_count": null,
      "outputs": []
    },
    {
      "cell_type": "code",
      "source": "figure_for_attribute(dfs, labels, \"GUPs\", \"GStreamUpdates per second\", \"1-node rma overhead GUPs (contiguous access)\", style=\"*-\", scale=\"log\")",
      "metadata": {
        "trusted": true
      },
      "execution_count": null,
      "outputs": []
    },
    {
      "cell_type": "code",
      "source": "figure_for_attribute(dfspruned, labelspruned, \"time_stream\", \"time (s)\", \"1-node rma overhead time\", style=\"*-\", scale=\"log\")",
      "metadata": {
        "trusted": true
      },
      "execution_count": null,
      "outputs": []
    },
    {
      "cell_type": "code",
      "source": "figure_for_attribute(dfspruned, labelspruned, \"GUPs\", \"GStreamUpdates per second\", \"1-node rma overhead GUPs (contiguous access)\", style=\"*-\", scale=\"log\")",
      "metadata": {
        "trusted": true
      },
      "execution_count": null,
      "outputs": []
    }
  ]
}