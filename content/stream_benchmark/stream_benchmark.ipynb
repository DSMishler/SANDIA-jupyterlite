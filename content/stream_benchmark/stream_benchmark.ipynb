{
  "metadata": {
    "language_info": {
      "codemirror_mode": {
        "name": "python",
        "version": 3
      },
      "file_extension": ".py",
      "mimetype": "text/x-python",
      "name": "python",
      "nbconvert_exporter": "python",
      "pygments_lexer": "ipython3",
      "version": "3.8"
    },
    "kernelspec": {
      "name": "python",
      "display_name": "Python (Pyodide)",
      "language": "python"
    }
  },
  "nbformat_minor": 4,
  "nbformat": 4,
  "cells": [
    {
      "cell_type": "code",
      "source": "import matplotlib.pyplot as plt\nimport pandas as pd",
      "metadata": {
        "trusted": true
      },
      "execution_count": null,
      "outputs": []
    },
    {
      "cell_type": "code",
      "source": "normal1_small = pd.read_csv(\"2023-07-07_weaver_streambench_normal_++_np1.csv\")\nnormal1_large = pd.read_csv(\"2023-07-10_weaver_streambench_normal_++_np1.csv\")\nnormal1 = pd.concat([normal1_small, normal1_large])\n\nremote1_small = pd.read_csv(\"2023-07-07_weaver_streambench_remote_++_np1.csv\")\nremote1_large = pd.read_csv(\"2023-07-10_weaver_streambench_remote_++_np1.csv\")\nremote1 = pd.concat([remote1_small, remote1_large])\n\nunmngd1_small = pd.read_csv(\"2023-07-10_weaver_streambench_unmngd_++_small_np1.csv\")\nunmngd1_large = pd.read_csv(\"2023-07-10_weaver_streambench_unmngd_++_large_np1.csv\")\nunmngd1 = pd.concat([unmngd1_small, unmngd1_large])",
      "metadata": {
        "trusted": true
      },
      "execution_count": null,
      "outputs": []
    },
    {
      "cell_type": "code",
      "source": "def calculate_new_attrs(df):\n    df[\"size\"] = 1.0*df[\"n\"]\n    df[\"UPs-mean\"] = df[\"size\"]*df[\"N\"]/df[\"time_stream-mean\"]\n    df[\"GUPs-mean\"] = 1e-9*df[\"UPs-mean\"]",
      "metadata": {
        "trusted": true
      },
      "execution_count": null,
      "outputs": []
    },
    {
      "cell_type": "code",
      "source": "calculate_new_attrs(normal1)\ncalculate_new_attrs(remote1)\ncalculate_new_attrs(unmngd1)",
      "metadata": {
        "trusted": true
      },
      "execution_count": null,
      "outputs": []
    },
    {
      "cell_type": "code",
      "source": "dfs = [normal1, remote1, unmngd1]\nlabels = [\"Kokkos (normal) View\", \"Kokkos Remote View\", \"Kokkos Unmanaged View\"]",
      "metadata": {
        "trusted": true
      },
      "execution_count": null,
      "outputs": []
    },
    {
      "cell_type": "code",
      "source": "def figure_for_attribute(dfs, labels, attribute, ylabel = None):\n    if ylabel is None:\n        ylabel = attribute\n    \n    if len(dfs) == 0:\n        print(\"required to have at least one line to plot\")\n    \n    maxy = 0\n    for df in dfs:\n        cur_max = max(df[f\"{attribute}-mean\"])\n        if cur_max > maxy:\n            maxy = cur_max\n    \n    if labels is None:\n        print(\"required to label each line\")\n        \n    plt.figure(figsize=[10,6])\n    for df, dflabel in zip(dfs,labels):\n        plt.plot(df[\"n\"], df[f\"{attribute}-mean\"], \"--\", label=dflabel)\n    plt.title(f\"update benchmark ({attribute.replace('_',' ')})\")\n    plt.legend()\n    plt.xlabel(\"problem size (cubic array of size n)\")\n    plt.ylabel(ylabel)\n    plt.ylim(0,int((maxy+1)*1.05))\n    plt.show()",
      "metadata": {
        "trusted": true
      },
      "execution_count": null,
      "outputs": []
    },
    {
      "cell_type": "code",
      "source": "figure_for_attribute(dfs, labels, \"time_stream\", \"time (s)\")",
      "metadata": {
        "trusted": true
      },
      "execution_count": null,
      "outputs": []
    },
    {
      "cell_type": "code",
      "source": "figure_for_attribute(dfs, labels, \"GUPs\", \"GStreamUpdates per second\")",
      "metadata": {
        "trusted": true
      },
      "execution_count": null,
      "outputs": []
    }
  ]
}