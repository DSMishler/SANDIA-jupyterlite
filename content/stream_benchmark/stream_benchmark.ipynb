{
  "metadata": {
    "language_info": {
      "codemirror_mode": {
        "name": "python",
        "version": 3
      },
      "file_extension": ".py",
      "mimetype": "text/x-python",
      "name": "python",
      "nbconvert_exporter": "python",
      "pygments_lexer": "ipython3",
      "version": "3.8"
    },
    "kernelspec": {
      "name": "python",
      "display_name": "Python (Pyodide)",
      "language": "python"
    }
  },
  "nbformat_minor": 4,
  "nbformat": 4,
  "cells": [
    {
      "cell_type": "code",
      "source": "import matplotlib.pyplot as plt\nimport pandas as pd",
      "metadata": {
        "trusted": true
      },
      "execution_count": null,
      "outputs": []
    },
    {
      "cell_type": "code",
      "source": "normal1_small = pd.read_csv(\"2023-07-07_weaver_streambench_normal_++_np1.csv\")\nnormal1_large = pd.read_csv(\"2023-07-10_weaver_streambench_normal_++_np1.csv\")\nnormal1 = pd.concat([normal1_small, normal1_large])\n\nremote1_small = pd.read_csv(\"2023-07-07_weaver_streambench_remote_++_np1.csv\")\nremote1_large = pd.read_csv(\"2023-07-10_weaver_streambench_remote_++_np1.csv\")\nremote1 = pd.concat([remote1_small, remote1_large])\n\nunmngd1_small = pd.read_csv(\"2023-07-10_weaver_streambench_unmngd_++_small_np1.csv\")\nunmngd1_large = pd.read_csv(\"2023-07-10_weaver_streambench_unmngd_++_large_np1.csv\")\nunmngd1 = pd.concat([unmngd1_small, unmngd1_large])\n\nnpn = pd.read_csv(\"2023-07-10_weaver_streambench_stream_npn.csv\")\nnpr = pd.read_csv(\"2023-07-10_weaver_streambench_stream_npr.csv\")\nnpu = pd.read_csv(\"2023-07-10_weaver_streambench_stream_npu.csv\")\nrpn = pd.read_csv(\"2023-07-10_weaver_streambench_stream_rpn.csv\")\nrpr = pd.read_csv(\"2023-07-10_weaver_streambench_stream_rpr.csv\")\nrpu = pd.read_csv(\"2023-07-10_weaver_streambench_stream_rpu.csv\")\nupn = pd.read_csv(\"2023-07-10_weaver_streambench_stream_upn.csv\")\nupr = pd.read_csv(\"2023-07-10_weaver_streambench_stream_upr.csv\")\nupu = pd.read_csv(\"2023-07-10_weaver_streambench_stream_upu.csv\")\n\nmpi2 = pd.read_csv(\"2023-07-11_weaver_streambench_mpi_np2.csv\")\nrma2 = pd.read_csv(\"2023-07-11_weaver_streambench_rma_np2.csv\")",
      "metadata": {
        "trusted": true
      },
      "execution_count": null,
      "outputs": []
    },
    {
      "cell_type": "code",
      "source": "def calculate_new_attrs_oldver(df):\n    df[\"size\"] = 1.0*df[\"n\"]\n    df[\"UPs-mean\"] = df[\"size\"]*df[\"N\"]/df[\"time_stream-mean\"]\n    df[\"GUPs-mean\"] = 1e-9*df[\"UPs-mean\"]",
      "metadata": {
        "trusted": true
      },
      "execution_count": null,
      "outputs": []
    },
    {
      "cell_type": "code",
      "source": "def calculate_new_attrs(df):\n    df[\"size\"] = 1.0*df[\"n\"]\n    df[\"UPs-mean\"] = df[\"size\"]*df[\"iterations\"]/df[\"time_stream-mean\"]\n    df[\"GUPs-mean\"] = 1e-9*df[\"UPs-mean\"]",
      "metadata": {
        "trusted": true
      },
      "execution_count": null,
      "outputs": []
    },
    {
      "cell_type": "code",
      "source": "calculate_new_attrs_oldver(normal1)\ncalculate_new_attrs_oldver(remote1)\ncalculate_new_attrs_oldver(unmngd1)\ncalculate_new_attrs(npn)\ncalculate_new_attrs(npr)\ncalculate_new_attrs(npu)\ncalculate_new_attrs(rpn)\ncalculate_new_attrs(rpr)\ncalculate_new_attrs(rpu)\ncalculate_new_attrs(upn)\ncalculate_new_attrs(upr)\ncalculate_new_attrs(upu)\ncalculate_new_attrs(mpi2)\ncalculate_new_attrs(rma2)",
      "metadata": {
        "trusted": true
      },
      "execution_count": null,
      "outputs": []
    },
    {
      "cell_type": "code",
      "source": "dfspp = [normal1, remote1, unmngd1]\nlabelspp = [\"Kokkos (normal) View\", \"Kokkos Remote View\", \"Kokkos Unmanaged View\"]\ndfsstr = [npn,npr,npu,rpn,rpr,rpu,upn,upr,upu]\nlabelsstr = [\"normal += normal\",\n             \"normal += remote\",\n             \"normal += unmngd\",\n             \"remote += normal\",\n             \"remote += remote\",\n             \"remote += unmngd\",\n             \"unmngd += normal\",\n             \"unmngd += remote\",\n             \"unmngd += unmngd\"]\ndfs2 = [mpi2, rma2]\nlabels2 = [\"mpi 2-node\", \"rma 2-node\"]",
      "metadata": {
        "trusted": true
      },
      "execution_count": null,
      "outputs": []
    },
    {
      "cell_type": "code",
      "source": "def figure_for_attribute(dfs, labels, attribute, ylabel = None, title = None, style=\"--\"):\n    if ylabel is None:\n        ylabel = attribute\n    \n    if title is None:\n        title = f\"update benchmark ({attribute.replace('_',' ')})\"\n    \n    if len(dfs) == 0:\n        print(\"required to have at least one line to plot\")\n    \n    maxy = 0\n    for df in dfs:\n        cur_max = max(df[f\"{attribute}-mean\"])\n        if cur_max > maxy:\n            maxy = cur_max\n    \n    if labels is None:\n        print(\"required to label each line\")\n        \n    plt.figure(figsize=[10,6])\n    for df, dflabel in zip(dfs,labels):\n        plt.plot(df[\"n\"], df[f\"{attribute}-mean\"], style, label=dflabel)\n    plt.title(title)\n    plt.legend()\n    plt.xlabel(\"problem size (cubic array of size n)\")\n    plt.ylabel(ylabel)\n    plt.ylim(0,int((maxy+1)*1.05))\n    plt.show()",
      "metadata": {
        "trusted": true
      },
      "execution_count": null,
      "outputs": []
    },
    {
      "cell_type": "code",
      "source": "figure_for_attribute(dfspp, labelspp, \"time_stream\", \"time (s)\", title = \"stream benchmark ++ version time\")",
      "metadata": {
        "trusted": true
      },
      "execution_count": null,
      "outputs": []
    },
    {
      "cell_type": "code",
      "source": "figure_for_attribute(dfspp, labelspp, \"GUPs\", \"GStreamUpdates per second\", \"stream benchmark ++ version GUPs\")",
      "metadata": {
        "trusted": true
      },
      "execution_count": null,
      "outputs": []
    },
    {
      "cell_type": "code",
      "source": "figure_for_attribute(dfsstr, labelsstr, \"time_stream\", \"time (s)\", title = \"stream benchmark += version time\")",
      "metadata": {
        "trusted": true
      },
      "execution_count": null,
      "outputs": []
    },
    {
      "cell_type": "code",
      "source": "figure_for_attribute(dfsstr, labelsstr, \"GUPs\", \"GStreamUpdates per second\", \"stream benchmark += version GUPs\")",
      "metadata": {
        "trusted": true
      },
      "execution_count": null,
      "outputs": []
    },
    {
      "cell_type": "code",
      "source": "figure_for_attribute(dfs2, labels2, \"time_stream\", \"time (s)\", \"rma benchmark time\", style=\"*-\")",
      "metadata": {
        "trusted": true
      },
      "execution_count": null,
      "outputs": []
    },
    {
      "cell_type": "code",
      "source": "figure_for_attribute(dfs2, labels2, \"GUPs\", \"GStreamUpdates per second\", \"rma benchmark GUPs\", style=\"*-\")",
      "metadata": {
        "trusted": true
      },
      "execution_count": null,
      "outputs": []
    }
  ]
}