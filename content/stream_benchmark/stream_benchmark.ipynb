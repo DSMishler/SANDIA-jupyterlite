{
  "metadata": {
    "language_info": {
      "codemirror_mode": {
        "name": "python",
        "version": 3
      },
      "file_extension": ".py",
      "mimetype": "text/x-python",
      "name": "python",
      "nbconvert_exporter": "python",
      "pygments_lexer": "ipython3",
      "version": "3.8"
    },
    "kernelspec": {
      "name": "python",
      "display_name": "Python (Pyodide)",
      "language": "python"
    }
  },
  "nbformat_minor": 4,
  "nbformat": 4,
  "cells": [
    {
      "cell_type": "code",
      "source": "import matplotlib.pyplot as plt\nimport pandas as pd",
      "metadata": {
        "trusted": true
      },
      "execution_count": null,
      "outputs": []
    },
    {
      "cell_type": "code",
      "source": "def calculate_new_attrs(df):\n    try:\n        df[\"size\"] = 1.0*df[\"n\"]\n    except KeyError:\n        df[\"size\"] = 1.0*df[\"len\"]\n    df[\"UPs-mean\"] = df[\"size\"]*df[\"iterations\"]/df[\"time_stream-mean\"]/2\n    df[\"GUPs-mean\"] = 1e-9*df[\"UPs-mean\"]",
      "metadata": {
        "trusted": true
      },
      "execution_count": null,
      "outputs": []
    },
    {
      "cell_type": "code",
      "source": "# data with 2-way communication (not loaded by default)\nstream_np2_mpi  = pd.read_csv(\"2023-07-17_weaver8_stream_np2_mpi.csv\") \nstream_np2_rma  = pd.read_csv(\"2023-07-17_weaver8_stream_np2_rma.csv\")\ndfs2 = [stream_np2_mpi, stream_np2_rma]\nlabels2 = [\"stream_np2_mpi\", \"stream_np2_rma\"]",
      "metadata": {
        "trusted": true
      },
      "execution_count": null,
      "outputs": []
    },
    {
      "cell_type": "code",
      "source": "\"\"\"\nstream_np2      = pd.read_csv(\"2023-07-31_weaver6_stream_np2.csv\") \nstream_np2_xbus = pd.read_csv(\"2023-07-31_weaver9_stream_np2_xbus.csv\")\nstream_np2_ib   = pd.read_csv(\"2023-08-01_weaver7_stream_np2_IB.csv\")\ncalculate_new_attrs(stream_np2)\ncalculate_new_attrs(stream_np2_xbus)\ncalculate_new_attrs(stream_np2_ib)\nstream_np2_mpi = stream_np2.loc[stream_np2[\"mode\"] == 0]\nstream_np2_rma = stream_np2.loc[stream_np2[\"mode\"] == 1]\nstream_np2_mpi_xbus = stream_np2_xbus.loc[stream_np2_xbus[\"mode\"] == 0]\nstream_np2_rma_xbus = stream_np2_xbus.loc[stream_np2_xbus[\"mode\"] == 1]\nstream_np2_mpi_ib = stream_np2_ib.loc[stream_np2_ib[\"mode\"] == 0]\nstream_np2_rma_ib = stream_np2_ib.loc[stream_np2_ib[\"mode\"] == 1]\ndfs2 = [stream_np2_mpi, stream_np2_rma, stream_np2_mpi_xbus, stream_np2_rma_xbus, stream_np2_mpi_ib, stream_np2_rma_ib]\ndfs_ib = [stream_np2_mpi_ib, stream_np2_rma_ib]\ndfs_ib_trim = [stream_np2_mpi_ib.loc[stream_np2_mpi_ib[\"len\"] <= 5e5], stream_np2_rma_ib.loc[stream_np2_rma_ib[\"len\"] <= 5e5]]\nlabels2 = [\"stream_np2_mpi\", \"stream_np2_rma\", \"stream_np2_mpi_xbus\", \"stream_np2_rma_xbus\", \"stream_np2_mpi_ib\", \"stream_np2_rma_ib\"]\nlabels_ib = [\"stream_np2_mpi_ib\", \"stream_np2_rma_ib\"]\n\"\"\"",
      "metadata": {
        "trusted": true
      },
      "execution_count": null,
      "outputs": []
    },
    {
      "cell_type": "code",
      "source": "stream_np2_nvl  = pd.read_csv(\"2023-08-03_weaver10_stream_np2_NVL.csv\") \nstream_np2_xbus = pd.read_csv(\"2023-08-03_weaver6_stream_np2_XBUS.csv\")\nstream_np2_ib   = pd.read_csv(\"2023-08-01_weaver7_stream_np2_IB.csv\")\ncalculate_new_attrs(stream_np2_ib)\n\nstream_np2_mpi_cu_nvl = stream_np2_nvl.loc[stream_np2_nvl[\"mode\"] == 0]\nstream_np2_mpi_un_nvl = stream_np2_nvl.loc[stream_np2_nvl[\"mode\"] == 3]\nstream_np2_rma_nv_nvl = stream_np2_nvl.loc[stream_np2_nvl[\"mode\"] == 1]\n\nstream_np2_mpi_cu_xbus = stream_np2_xbus.loc[stream_np2_xbus[\"mode\"] == 0]\nstream_np2_mpi_un_xbus = stream_np2_xbus.loc[stream_np2_xbus[\"mode\"] == 3]\nstream_np2_rma_nv_xbus = stream_np2_xbus.loc[stream_np2_xbus[\"mode\"] == 1]\n\nstream_np2_mpi_cu_ib = stream_np2_ib.loc[stream_np2_ib[\"mode\"] == 0]\nstream_np2_mpi_un_ib = stream_np2_ib.loc[stream_np2_ib[\"mode\"] == 3]\nstream_np2_rma_nv_ib = stream_np2_ib.loc[stream_np2_ib[\"mode\"] == 1]\n\n\ndfs2 = [stream_np2_mpi_cu_nvl, stream_np2_mpi_un_nvl, stream_np2_rma_nv_nvl,\n       stream_np2_mpi_cu_xbus, stream_np2_rma_nv_xbus,\n       stream_np2_mpi_cu_ib, stream_np2_rma_nv_ib]\ndfs_ib = [stream_np2_mpi_cu_ib, stream_np2_mpi_un_ib, stream_np2_rma_nv_ib]\n\ndfs_ib_trim = [stream_np2_mpi_cu_ib.loc[stream_np2_mpi_cu_ib[\"len\"] <= 5e5],\n               stream_np2_mpi_un_ib.loc[stream_np2_mpi_un_ib[\"len\"] <= 5e5],\n               stream_np2_rma_nv_ib.loc[stream_np2_rma_nv_ib[\"len\"] <= 5e5]]\n\nlabels2 = [\"MPI CUDA-aware over NVLINK\", \"MPI CUDA-unaware (host IB)\", \"RMA NVSHMEM over NVLINK\",\n           \"MPI CUDA-aware over XBUS\", \"RMA NVSHMEM over XBUS\",\n           \"MPI CUDA-aware over IB\", \"RMA NVSHMEM over IB\"]\n\nlabels_ib = [\"MPI CUDA-aware over IB\", \"MPI CUDA-unaware over IB\", \"RMA NVSHMEM over IB\"]",
      "metadata": {
        "trusted": true
      },
      "execution_count": null,
      "outputs": []
    },
    {
      "cell_type": "code",
      "source": "# glinda data (not loaded by default)\n\"\"\"\nstream_np1_pe_npn = pd.read_csv(\"2023-07-14_gn116_stream_np1_pe_npn.csv\")\nstream_np1_pe_npr = pd.read_csv(\"2023-07-14_gn116_stream_np1_pe_npr.csv\")\nstream_np1_pe_npu = pd.read_csv(\"2023-07-14_gn116_stream_np1_pe_npu.csv\")\nstream_np1_pe_rpn = pd.read_csv(\"2023-07-14_gn116_stream_np1_pe_rpn.csv\")\nstream_np1_pe_rpr = pd.read_csv(\"2023-07-14_gn116_stream_np1_pe_rpr.csv\")\nstream_np1_pe_rpu = pd.read_csv(\"2023-07-14_gn116_stream_np1_pe_rpu.csv\")\nstream_np1_pe_upn = pd.read_csv(\"2023-07-14_gn116_stream_np1_pe_upn.csv\")\nstream_np1_pe_upr = pd.read_csv(\"2023-07-14_gn116_stream_np1_pe_upr.csv\")\nstream_np1_pe_upu = pd.read_csv(\"2023-07-14_gn116_stream_np1_pe_upu.csv\")\nstream_np1_pp_npn = pd.read_csv(\"2023-07-14_gn116_stream_np1_pp_npn.csv\")\nstream_np1_pp_rpr = pd.read_csv(\"2023-07-14_gn116_stream_np1_pp_rpr.csv\")\nstream_np1_pp_upu = pd.read_csv(\"2023-07-14_gn116_stream_np1_pp_upu.csv\")\ndfs = [stream_np1_pe_npn, stream_np1_pe_npr, stream_np1_pe_npu, stream_np1_pe_rpn, stream_np1_pe_rpr, stream_np1_pe_rpu, stream_np1_pe_upn, stream_np1_pe_upr, stream_np1_pe_upu, stream_np1_pp_npn, stream_np1_pp_rpr, stream_np1_pp_upu]\nlabels = [\"stream_np1_pe_npn\", \"stream_np1_pe_npr\", \"stream_np1_pe_npu\", \"stream_np1_pe_rpn\", \"stream_np1_pe_rpr\", \"stream_np1_pe_rpu\", \"stream_np1_pe_upn\", \"stream_np1_pe_upr\", \"stream_np1_pe_upu\", \"stream_np1_pp_npn\", \"stream_np1_pp_rpr\", \"stream_np1_pp_upu\"]\n\"\"\"",
      "metadata": {
        "trusted": true
      },
      "execution_count": null,
      "outputs": []
    },
    {
      "cell_type": "code",
      "source": "stream_np1_pp_rpr = pd.read_csv(\"2023-07-17_weaver4_stream_np1_pp_rpr.csv\")\nstream_np1_pe_rpn = pd.read_csv(\"2023-07-17_weaver4_stream_np1_pe_rpn.csv\")\nstream_np1_pe_rpu = pd.read_csv(\"2023-07-17_weaver4_stream_np1_pe_rpu.csv\")\nstream_np1_pe_rpr = pd.read_csv(\"2023-07-17_weaver4_stream_np1_pe_rpr.csv\")\nstream_np1_pe_upn = pd.read_csv(\"2023-07-17_weaver4_stream_np1_pe_upn.csv\")\nstream_np1_pp_npn = pd.read_csv(\"2023-07-17_weaver4_stream_np1_pp_npn.csv\")\nstream_np1_pe_upr = pd.read_csv(\"2023-07-17_weaver4_stream_np1_pe_upr.csv\")\nstream_np1_pe_upu = pd.read_csv(\"2023-07-17_weaver4_stream_np1_pe_upu.csv\")\nstream_np1_pe_npr = pd.read_csv(\"2023-07-17_weaver4_stream_np1_pe_npr.csv\")\nstream_np1_pe_npu = pd.read_csv(\"2023-07-17_weaver4_stream_np1_pe_npu.csv\")\nstream_np1_pp_upu = pd.read_csv(\"2023-07-17_weaver4_stream_np1_pp_upu.csv\")\nstream_np1_pe_npn = pd.read_csv(\"2023-07-17_weaver4_stream_np1_pe_npn.csv\")\ndfs = [stream_np1_pp_rpr, stream_np1_pe_rpn, stream_np1_pe_rpu, stream_np1_pe_rpr, stream_np1_pe_upn, stream_np1_pp_npn, stream_np1_pe_upr, stream_np1_pe_upu, stream_np1_pe_npr, stream_np1_pe_npu, stream_np1_pp_upu, stream_np1_pe_npn]\nlabels = ['stream_np1_pp_rpr', 'stream_np1_pe_rpn', 'stream_np1_pe_rpu', 'stream_np1_pe_rpr', 'stream_np1_pe_upn', 'stream_np1_pp_npn', 'stream_np1_pe_upr', 'stream_np1_pe_upu', 'stream_np1_pe_npr', 'stream_np1_pe_npu', 'stream_np1_pp_upu', 'stream_np1_pe_npn']",
      "metadata": {
        "trusted": true
      },
      "execution_count": null,
      "outputs": []
    },
    {
      "cell_type": "code",
      "source": "for i in range(len(dfs)):\n    calculate_new_attrs(dfs[i])",
      "metadata": {
        "trusted": true
      },
      "execution_count": null,
      "outputs": []
    },
    {
      "cell_type": "code",
      "source": "dfspp = [stream_np1_pp_npn,stream_np1_pp_rpr,stream_np1_pp_upu]\nlabelspp = ['++ normal','++ remote','++ unmanaged']\ndfsnpex = [stream_np1_pe_npn,stream_np1_pe_npr,stream_np1_pe_npu]\nlabelsnpex = ['+= normal,normal','+= normal,remote','+= normal,unmanaged']\ndfsrpex = [stream_np1_pe_rpn,stream_np1_pe_rpr,stream_np1_pe_rpu]\nlabelsrpex = ['+= remote,normal','+= remote,remote','+= remote,unmanaged']\ndfsupex = [stream_np1_pe_upn,stream_np1_pe_upr,stream_np1_pe_upu]\nlabelsupex = ['+= unmanaged,normal','+= unmanaged,remote','+= unmanaged,unmanaged']\ndfspruned = [dfspp[0], dfspp[1], dfspp[2], dfsnpex[0], dfsrpex[1], dfsupex[2]]\nlabelspruned = [labelspp[0], labelspp[1], labelspp[2], labelsnpex[0], labelsrpex[1], labelsupex[2]]",
      "metadata": {
        "trusted": true
      },
      "execution_count": null,
      "outputs": []
    },
    {
      "cell_type": "code",
      "source": "def figure_for_attribute(dfs,\n                         labels,\n                         attribute,\n                         xaxis=\"n\",\n                         xlabel=\"problem size (array of size n)\",\n                         ylabel = None,\n                         title = None,\n                         style=\"--\",\n                         scale=\"linear\",\n                         figsize=[8.25,4.95],\n                         colors=None):\n    color_defaults = [\"tab:purple\", \"tab:brown\", \"tab:red\", \"k\", \"g\", \"c\", \"tab:orange\", \"tab:blue\", \"y\"]\n    if colors is None:\n        colors = color_defaults[:len(dfs)]\n    \n    \n    if ylabel is None:\n        ylabel = attribute\n    \n    if title is None:\n        title = f\"update benchmark ({attribute.replace('_',' ')})\"\n    \n    if len(dfs) == 0:\n        print(\"required to have at least one line to plot\")\n    \n    maxy = max(dfs[0][f\"{attribute}-mean\"])\n    miny = min(dfs[0][f\"{attribute}-mean\"])\n    for df in dfs:\n        cur_max = max(df[f\"{attribute}-mean\"])\n        cur_min = min(df[f\"{attribute}-mean\"])\n        if cur_max > maxy:\n            maxy = cur_max\n        if cur_min < miny:\n            miny = cur_min\n    \n    if labels is None:\n        print(\"required to label each line\")\n        \n    plt.figure(figsize=figsize)\n    for df, dflabel,c in zip(dfs,labels,colors):\n        plt.plot(df[xaxis], df[f\"{attribute}-mean\"], style, label=dflabel, color=c)\n    plt.title(title)\n    plt.legend()\n    plt.xlabel(xlabel)\n    plt.ylabel(ylabel)\n    if type(scale) is str:\n        plt.xscale(scale)\n        plt.yscale(scale)\n    else:\n        plt.xscale(scale[0])\n        plt.yscale(scale[1])\n    if scale == \"linear\":\n        ylim_base = 0\n    else:\n        ylim_base = miny*0.95\n    plt.ylim(ylim_base,(maxy)*1.05)\n    plt.grid()\n    plt.savefig(f\"{title}.png\")\n    plt.show()",
      "metadata": {
        "trusted": true
      },
      "execution_count": null,
      "outputs": []
    },
    {
      "cell_type": "code",
      "source": "figure_for_attribute(dfs2,\n                     labels2,\n                     \"time_stream\",\n                     xaxis=\"len\",\n                     xlabel=\"array size (bytes)\",\n                     ylabel=\"time (s)\",\n                     title=\"2-process stream A+=B benchmark (time)\",\n                     style=\"*-\",\n                     scale=\"log\")",
      "metadata": {
        "trusted": true
      },
      "execution_count": null,
      "outputs": []
    },
    {
      "cell_type": "code",
      "source": "figure_for_attribute(dfs2,\n                     labels2,\n                     \"GUPs\",\n                     xaxis=\"len\",\n                     ylabel=\"GUpdates per second\",\n                     xlabel=\"array size (bytes)\",\n                     title=\"2-process stream A+=B benchmark (GUPs)\",\n                     style=\"*-\",\n                     scale=[\"log\", \"linear\"])\n# for each i\n# A(i) += B(i)\n# rma:\n# just say A(i) += B(i) for all i\n# mpi: \n# first rank 1 sends data to rank 0\n# then rank 0 will A(i) += C(i) where C is the copy of B\n\n# A += B\n# A = B\n# A += 1\n# A = 1",
      "metadata": {
        "trusted": true
      },
      "execution_count": null,
      "outputs": []
    },
    {
      "cell_type": "code",
      "source": "figure_for_attribute(dfs_ib,\n                     labels_ib,\n                     \"GUPs\",\n                     xaxis=\"len\",\n                     ylabel=\"GStreamUpdates per second\",\n                     xlabel=\"array size (bytes)\",\n                     title=\"2-node rma benchmark GUPs (contiguous access IB only)\",\n                     style=\"*-\",\n                     scale=[\"log\", \"linear\"])",
      "metadata": {
        "trusted": true
      },
      "execution_count": null,
      "outputs": []
    },
    {
      "cell_type": "code",
      "source": "figure_for_attribute(dfs_ib_trim,\n                     labels_ib,\n                     \"GUPs\",\n                     xaxis=\"len\",\n                     ylabel=\"GStreamUpdates per second\",\n                     xlabel=\"array size (bytes)\",\n                     title=\"2-node rma benchmark GUPs (contiguous access zoomed)\",\n                     style=\"*-\",\n                     scale=[\"log\", \"linear\"])",
      "metadata": {
        "trusted": true
      },
      "execution_count": null,
      "outputs": []
    },
    {
      "cell_type": "code",
      "source": "figure_for_attribute(dfs,\n                     labels,\n                     \"time_stream\",\n                     ylabel=\"time (s)\",\n                     title=\"1-node rma overhead time\",\n                     style=\"*-\",\n                     scale=\"log\")",
      "metadata": {
        "trusted": true
      },
      "execution_count": null,
      "outputs": []
    },
    {
      "cell_type": "code",
      "source": "figure_for_attribute(dfs,\n                     labels,\n                     \"GUPs\",\n                     ylabel=\"GStreamUpdates per second\",\n                     xlabel=\"array size (bytes)\",\n                     title=\"1-node rma overhead GUPs (contiguous access)\",\n                     style=\"*-\",\n                     scale=\"log\")",
      "metadata": {
        "trusted": true
      },
      "execution_count": null,
      "outputs": []
    },
    {
      "cell_type": "code",
      "source": "figure_for_attribute(dfspruned,\n                     labelspruned,\n                     \"time_stream\",\n                     ylabel=\"time (s)\",\n                     title=\"1-node rma overhead time\",\n                     style=\"*-\",\n                     scale=\"log\")",
      "metadata": {
        "trusted": true
      },
      "execution_count": null,
      "outputs": []
    },
    {
      "cell_type": "code",
      "source": "figure_for_attribute(dfspruned,\n                     labelspruned,\n                     \"GUPs\",\n                     ylabel=\"GStreamUpdates per second\",\n                     xlabel=\"array size (bytes)\",\n                     title=\"1-node rma overhead GUPs (contiguous access)\",\n                     style=\"*-\",\n                     scale=\"log\")",
      "metadata": {
        "trusted": true
      },
      "execution_count": null,
      "outputs": []
    },
    {
      "cell_type": "markdown",
      "source": "# notes from 2023-07-19\n\n- nv peer mem loaded on weaver\n    - only weaver\n\n- pp = `++`\n    - `A(i) ++;`\n- pe = `+=`\n    - Twice as much memory\n    - `A(i) += B(i)`\n- `r` = remote\n- `n` = normal\n- `u` = unmanaged\n    - speaking of unmanaged views, we can use them to be smarter with our accesses on specific applications\n",
      "metadata": {}
    }
  ]
}