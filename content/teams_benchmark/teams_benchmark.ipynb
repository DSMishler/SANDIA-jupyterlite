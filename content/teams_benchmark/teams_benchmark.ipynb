{
  "metadata": {
    "language_info": {
      "codemirror_mode": {
        "name": "python",
        "version": 3
      },
      "file_extension": ".py",
      "mimetype": "text/x-python",
      "name": "python",
      "nbconvert_exporter": "python",
      "pygments_lexer": "ipython3",
      "version": "3.8"
    },
    "kernelspec": {
      "name": "python",
      "display_name": "Python (Pyodide)",
      "language": "python"
    }
  },
  "nbformat_minor": 4,
  "nbformat": 4,
  "cells": [
    {
      "cell_type": "code",
      "source": "import matplotlib.pyplot as plt\nimport pandas as pd",
      "metadata": {
        "trusted": true
      },
      "execution_count": null,
      "outputs": []
    },
    {
      "cell_type": "code",
      "source": "teams_bench_np1_nview_TS16_LS128 = pd.read_csv(\"2023-07-24_weaver3_teams_bench_np1_nview_TS16_LS128.csv\")\nteams_bench_np1_nview_TS16_LS16 = pd.read_csv(\"2023-07-24_weaver3_teams_bench_np1_nview_TS16_LS16.csv\")\nteams_bench_np1_nview_TS16_LS256 = pd.read_csv(\"2023-07-24_weaver3_teams_bench_np1_nview_TS16_LS256.csv\")\nteams_bench_np1_nview_TS16_LS32 = pd.read_csv(\"2023-07-24_weaver3_teams_bench_np1_nview_TS16_LS32.csv\")\nteams_bench_np1_nview_TS16_LS512 = pd.read_csv(\"2023-07-24_weaver3_teams_bench_np1_nview_TS16_LS512.csv\")\nteams_bench_np1_nview_TS16_LS64 = pd.read_csv(\"2023-07-24_weaver3_teams_bench_np1_nview_TS16_LS64.csv\")\nteams_bench_np1_nview_TS16_LS8 = pd.read_csv(\"2023-07-24_weaver3_teams_bench_np1_nview_TS16_LS8.csv\")\nteams_bench_np1_nview_TS32_LS128 = pd.read_csv(\"2023-07-24_weaver3_teams_bench_np1_nview_TS32_LS128.csv\")\nteams_bench_np1_nview_TS32_LS16 = pd.read_csv(\"2023-07-24_weaver3_teams_bench_np1_nview_TS32_LS16.csv\")\nteams_bench_np1_nview_TS32_LS256 = pd.read_csv(\"2023-07-24_weaver3_teams_bench_np1_nview_TS32_LS256.csv\")\nteams_bench_np1_nview_TS32_LS32 = pd.read_csv(\"2023-07-24_weaver3_teams_bench_np1_nview_TS32_LS32.csv\")\nteams_bench_np1_nview_TS32_LS512 = pd.read_csv(\"2023-07-24_weaver3_teams_bench_np1_nview_TS32_LS512.csv\")\nteams_bench_np1_nview_TS32_LS64 = pd.read_csv(\"2023-07-24_weaver3_teams_bench_np1_nview_TS32_LS64.csv\")\nteams_bench_np1_nview_TS32_LS8 = pd.read_csv(\"2023-07-24_weaver3_teams_bench_np1_nview_TS32_LS8.csv\")\nteams_bench_np1_nview_TS64_LS8 = pd.read_csv(\"2023-07-24_weaver3_teams_bench_np1_nview_TS64_LS8.csv\")\nteams_bench_np1_nview_TS8_LS128 = pd.read_csv(\"2023-07-24_weaver3_teams_bench_np1_nview_TS8_LS128.csv\")\nteams_bench_np1_nview_TS8_LS16 = pd.read_csv(\"2023-07-24_weaver3_teams_bench_np1_nview_TS8_LS16.csv\")\nteams_bench_np1_nview_TS8_LS256 = pd.read_csv(\"2023-07-24_weaver3_teams_bench_np1_nview_TS8_LS256.csv\")\nteams_bench_np1_nview_TS8_LS32 = pd.read_csv(\"2023-07-24_weaver3_teams_bench_np1_nview_TS8_LS32.csv\")\nteams_bench_np1_nview_TS8_LS512 = pd.read_csv(\"2023-07-24_weaver3_teams_bench_np1_nview_TS8_LS512.csv\")\nteams_bench_np1_nview_TS8_LS64 = pd.read_csv(\"2023-07-24_weaver3_teams_bench_np1_nview_TS8_LS64.csv\")\nteams_bench_np1_nview_TS8_LS8 = pd.read_csv(\"2023-07-24_weaver3_teams_bench_np1_nview_TS8_LS8.csv\")",
      "metadata": {
        "trusted": true
      },
      "execution_count": null,
      "outputs": []
    },
    {
      "cell_type": "code",
      "source": "dfs = [teams_bench_np1_nview_TS32_LS8,\n       teams_bench_np1_nview_TS32_LS16,\n       teams_bench_np1_nview_TS32_LS32,\n       teams_bench_np1_nview_TS32_LS64,\n       teams_bench_np1_nview_TS32_LS128,\n       teams_bench_np1_nview_TS32_LS256,\n       teams_bench_np1_nview_TS32_LS512]\nlbl = [\"teams_bench_np1_nview_TS32_LS8\",\n       \"teams_bench_np1_nview_TS32_LS16\",\n       \"teams_bench_np1_nview_TS32_LS32\",\n       \"teams_bench_np1_nview_TS32_LS64\",\n       \"teams_bench_np1_nview_TS32_LS128\",\n       \"teams_bench_np1_nview_TS32_LS256\",\n       \"teams_bench_np1_nview_TS32_LS512\"]",
      "metadata": {
        "trusted": true
      },
      "execution_count": null,
      "outputs": []
    },
    {
      "cell_type": "code",
      "source": "def figure_for_attribute(dfs, labels, attribute, ylabel = None, title = None, style=\"--\", scale=\"linear\"):\n    if ylabel is None:\n        ylabel = attribute\n    \n    if title is None:\n        title = f\"update benchmark ({attribute.replace('_',' ')})\"\n    \n    if len(dfs) == 0:\n        print(\"required to have at least one line to plot\")\n    \n    maxy = max(dfs[0][f\"{attribute}-mean\"])\n    miny = min(dfs[0][f\"{attribute}-mean\"])\n    for df in dfs:\n        cur_max = max(df[f\"{attribute}-mean\"])\n        cur_min = min(df[f\"{attribute}-mean\"])\n        if cur_max > maxy:\n            maxy = cur_max\n        if cur_min < miny:\n            miny = cur_min\n    \n    if labels is None:\n        print(\"required to label each line\")\n        \n    plt.figure(figsize=[10,6])\n    for df, dflabel in zip(dfs,labels):\n        plt.plot(df[\"n\"], df[f\"{attribute}-mean\"], style, label=dflabel)\n    plt.title(title)\n    plt.legend()\n    plt.xlabel(\"problem size (array of size n)\")\n    plt.ylabel(ylabel)\n    plt.xscale(scale)\n    plt.yscale(scale)\n    if scale == \"linear\":\n        ylim_base = 0\n    else:\n        ylim_base = miny*0.95\n    plt.ylim(ylim_base,int((maxy+1)*1.05))\n    plt.grid()\n    plt.savefig(f\"{title}.png\")\n    plt.show()",
      "metadata": {
        "trusted": true
      },
      "execution_count": null,
      "outputs": []
    },
    {
      "cell_type": "code",
      "source": "figure_for_attribute(dfs, lbl, \"time_benchmark\", \"time (s)\", \"1-node normal view overhead time\", style=\"*-\", scale=\"log\")",
      "metadata": {
        "trusted": true
      },
      "execution_count": null,
      "outputs": []
    },
    {
      "cell_type": "code",
      "source": "figure_for_attribute(dfs, lbl, \"gups\", \"GStreamUpdates per second\", \"1-node normal view overhead GUPs (contiguous access)\", style=\"*-\", scale=\"log\")",
      "metadata": {
        "trusted": true
      },
      "execution_count": null,
      "outputs": []
    },
    {
      "cell_type": "code",
      "source": "",
      "metadata": {},
      "execution_count": null,
      "outputs": []
    }
  ]
}